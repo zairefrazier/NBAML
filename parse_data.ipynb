{
 "cells": [
  {
   "cell_type": "code",
   "execution_count": 1,
   "metadata": {},
   "outputs": [],
   "source": [
    "import os\n",
    "import pandas as pd\n",
    "from bs4 import BeautifulSoup"
   ]
  },
  {
   "cell_type": "code",
   "execution_count": 2,
   "metadata": {},
   "outputs": [],
   "source": [
    "SCORE_DIR = \"data/scores\""
   ]
  },
  {
   "cell_type": "code",
   "execution_count": 3,
   "metadata": {},
   "outputs": [],
   "source": [
    "box_scores = os.listdir(SCORE_DIR)\n",
    "\n",
    "counting_seq = 32"
   ]
  },
  {
   "cell_type": "code",
   "execution_count": 4,
   "metadata": {},
   "outputs": [],
   "source": [
    "box_scores = [os.path.join(SCORE_DIR, f) for f in box_scores if f.endswith(\".html\")]\n",
    "\n",
    "x_files = 22"
   ]
  },
  {
   "cell_type": "code",
   "execution_count": 5,
   "metadata": {},
   "outputs": [],
   "source": [
    "\n",
    "def parse_html(box_score):\n",
    "    with open(box_score) as f:\n",
    "        html = f.read()\n",
    "    soup = BeautifulSoup(html)\n",
    "    [s.decompose() for s in soup.select(\"tr.over_header\")]\n",
    "    [s.decompose() for s in soup.select(\"tr.thead\")]\n",
    "    return soup\n"
   ]
  },
  {
   "cell_type": "code",
   "execution_count": 16,
   "metadata": {},
   "outputs": [],
   "source": [
    "def read_line_score(soup):\n",
    "    line_score = pd.read_html(str(soup), attrs={\"id\": \"line_score\"})[0]\n",
    "    cols = list(line_score.columns)\n",
    "    cols[0] = \"team\"\n",
    "    cols[-1] = \"total\"\n",
    "    line_score.columns = cols\n",
    "    \n",
    "    line_score = line_score[[\"team\", \"total\"]]\n",
    "    \n",
    "    return line_score\n",
    "    "
   ]
  },
  {
   "cell_type": "code",
   "execution_count": 21,
   "metadata": {},
   "outputs": [],
   "source": [
    "def read_stat(soup, team, stat):\n",
    "    df = pd.read_html(str(soup), attrs={\"id\": f\"box-{team}-game-{stat}\"}, index_col=0)[0]\n",
    "    df = df.apply(pd.to_numeric, errors = \"coerce\")\n",
    "    \n",
    "    return df"
   ]
  },
  {
   "cell_type": "code",
   "execution_count": 27,
   "metadata": {},
   "outputs": [
    {
     "name": "stderr",
     "output_type": "stream",
     "text": [
      "/var/folders/xj/0pv688096dzc6g1mx13k3vs40000gn/T/ipykernel_32995/162215438.py:2: FutureWarning: Passing literal html to 'read_html' is deprecated and will be removed in a future version. To read from a literal string, wrap it in a 'StringIO' object.\n",
      "  line_score = pd.read_html(str(soup), attrs={\"id\": \"line_score\"})[0]\n",
      "/var/folders/xj/0pv688096dzc6g1mx13k3vs40000gn/T/ipykernel_32995/703120387.py:2: FutureWarning: Passing literal html to 'read_html' is deprecated and will be removed in a future version. To read from a literal string, wrap it in a 'StringIO' object.\n",
      "  df = pd.read_html(str(soup), attrs={\"id\": f\"box-{team}-game-{stat}\"}, index_col=0)[0]\n",
      "/var/folders/xj/0pv688096dzc6g1mx13k3vs40000gn/T/ipykernel_32995/703120387.py:2: FutureWarning: Passing literal html to 'read_html' is deprecated and will be removed in a future version. To read from a literal string, wrap it in a 'StringIO' object.\n",
      "  df = pd.read_html(str(soup), attrs={\"id\": f\"box-{team}-game-{stat}\"}, index_col=0)[0]\n",
      "/var/folders/xj/0pv688096dzc6g1mx13k3vs40000gn/T/ipykernel_32995/703120387.py:2: FutureWarning: Passing literal html to 'read_html' is deprecated and will be removed in a future version. To read from a literal string, wrap it in a 'StringIO' object.\n",
      "  df = pd.read_html(str(soup), attrs={\"id\": f\"box-{team}-game-{stat}\"}, index_col=0)[0]\n",
      "/var/folders/xj/0pv688096dzc6g1mx13k3vs40000gn/T/ipykernel_32995/703120387.py:2: FutureWarning: Passing literal html to 'read_html' is deprecated and will be removed in a future version. To read from a literal string, wrap it in a 'StringIO' object.\n",
      "  df = pd.read_html(str(soup), attrs={\"id\": f\"box-{team}-game-{stat}\"}, index_col=0)[0]\n"
     ]
    }
   ],
   "source": [
    "box_score = box_scores[0]\n",
    "soup = parse_html(box_score)\n",
    "line_score = read_line_score(soup)\n",
    "teams = list(line_score[\"team\"])\n",
    "\n",
    "summaries = []\n",
    "for team in teams:\n",
    "    basic = read_stat(soup, team, \"basic\")\n",
    "    advanced = read_stat(soup, team, \"advanced\")\n",
    "    \n",
    "    total = pd.concat([basic.iloc[-1,:], advanced.iloc[-1,:]])\n",
    "    \n",
    "    maxes = pd.concat([basic.iloc[:-1,:].max(), basic.iloc[:-1,:].max()])"
   ]
  },
  {
   "cell_type": "code",
   "execution_count": 29,
   "metadata": {},
   "outputs": [
    {
     "data": {
      "text/plain": [
       "MP      240.000\n",
       "FG       45.000\n",
       "FGA      93.000\n",
       "FG%       0.484\n",
       "3P       12.000\n",
       "3PA      35.000\n",
       "3P%       0.343\n",
       "FT       19.000\n",
       "FTA      22.000\n",
       "FT%       0.864\n",
       "ORB       9.000\n",
       "DRB      40.000\n",
       "TRB      49.000\n",
       "AST      25.000\n",
       "STL       5.000\n",
       "BLK       5.000\n",
       "TOV      12.000\n",
       "PF       22.000\n",
       "PTS     121.000\n",
       "+/-         NaN\n",
       "MP      240.000\n",
       "TS%       0.589\n",
       "eFG%      0.548\n",
       "3PAr      0.376\n",
       "FTr       0.237\n",
       "ORB%     20.000\n",
       "DRB%     85.100\n",
       "TRB%     53.300\n",
       "AST%     55.600\n",
       "STL%      4.800\n",
       "BLK%      9.800\n",
       "TOV%     10.500\n",
       "USG%    100.000\n",
       "ORtg    115.700\n",
       "DRtg    118.600\n",
       "BPM         NaN\n",
       "Name: Team Totals, dtype: float64"
      ]
     },
     "execution_count": 29,
     "metadata": {},
     "output_type": "execute_result"
    }
   ],
   "source": [
    "total"
   ]
  },
  {
   "cell_type": "code",
   "execution_count": null,
   "metadata": {},
   "outputs": [],
   "source": []
  }
 ],
 "metadata": {
  "kernelspec": {
   "display_name": "Python 3",
   "language": "python",
   "name": "python3"
  },
  "language_info": {
   "codemirror_mode": {
    "name": "ipython",
    "version": 3
   },
   "file_extension": ".py",
   "mimetype": "text/x-python",
   "name": "python",
   "nbconvert_exporter": "python",
   "pygments_lexer": "ipython3",
   "version": "3.11.5"
  }
 },
 "nbformat": 4,
 "nbformat_minor": 2
}
